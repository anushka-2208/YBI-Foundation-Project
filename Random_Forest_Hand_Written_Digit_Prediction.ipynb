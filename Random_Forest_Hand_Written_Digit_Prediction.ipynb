{
  "nbformat": 4,
  "nbformat_minor": 0,
  "metadata": {
    "colab": {
      "provenance": []
    },
    "kernelspec": {
      "name": "python3",
      "display_name": "Python 3"
    },
    "language_info": {
      "name": "python"
    }
  },
  "cells": [
    {
      "cell_type": "markdown",
      "source": [
        "## **Hand Written Digit Prediction - Classification Analysis**"
      ],
      "metadata": {
        "id": "rvPkRgh6LOD0"
      }
    },
    {
      "cell_type": "markdown",
      "source": [
        "### **Importing all the required libraries** "
      ],
      "metadata": {
        "id": "BjJBHGLYFxrl"
      }
    },
    {
      "cell_type": "code",
      "source": [
        "import pandas as pd\n",
        "import numpy as np\n",
        "import matplotlib.pyplot as plt"
      ],
      "metadata": {
        "id": "03NwR0dAGAdl"
      },
      "execution_count": 1,
      "outputs": []
    },
    {
      "cell_type": "markdown",
      "source": [
        "**Import Data**"
      ],
      "metadata": {
        "id": "U8cXPHT9HYQV"
      }
    },
    {
      "cell_type": "code",
      "source": [
        "from sklearn.datasets import load_digits\n",
        "df = load_digits()"
      ],
      "metadata": {
        "id": "u8I7D7eZGMwm"
      },
      "execution_count": 2,
      "outputs": []
    },
    {
      "cell_type": "code",
      "source": [
        "_, axes = plt.subplots(nrows=1 , ncols=4, figsize=(10,3))\n",
        "for ax, image, label in zip(axes, df.images, df.target):\n",
        "  ax.set_axis_off()\n",
        "  ax.imshow(image, cmap=plt.cm.gray_r, interpolation=\"nearest\")\n",
        "  ax.set_title(\"training: %i\" % label)"
      ],
      "metadata": {
        "colab": {
          "base_uri": "https://localhost:8080/",
          "height": 227
        },
        "id": "3GZK0LTDGenU",
        "outputId": "045fde76-7fdc-45f8-8ab3-cdbd3460198e"
      },
      "execution_count": 4,
      "outputs": [
        {
          "output_type": "display_data",
          "data": {
            "text/plain": [
              "<Figure size 1000x300 with 4 Axes>"
            ],
            "image/png": "[encoded data removed]"
          },
          "metadata": {}
        }
      ]
    },
    {
      "cell_type": "markdown",
      "source": [
        "### **Data Preprocessing**"
      ],
      "metadata": {
        "id": "zKX7dMr8HfTg"
      }
    },
    {
      "cell_type": "code",
      "source": [
        "df.images.shape"
      ],
      "metadata": {
        "colab": {
          "base_uri": "https://localhost:8080/"
        },
        "id": "4CGXEHFhHOb-",
        "outputId": "02fbcd4b-7f16-411d-8b46-4a4a98317f62"
      },
      "execution_count": 5,
      "outputs": [
        {
          "output_type": "execute_result",
          "data": {
            "text/plain": [
              "(1797, 8, 8)"
            ]
          },
          "metadata": {},
          "execution_count": 5
        }
      ]
    },
    {
      "cell_type": "code",
      "source": [
        "df.images[0]"
      ],
      "metadata": {
        "colab": {
          "base_uri": "https://localhost:8080/"
        },
        "id": "T7qUaACkIFzi",
        "outputId": "1175f3a8-d90d-4316-fe2f-eda1de9c0fec"
      },
      "execution_count": 6,
      "outputs": [
        {
          "output_type": "execute_result",
          "data": {
            "text/plain": [
              "array([[ 0.,  0.,  5., 13.,  9.,  1.,  0.,  0.],\n",
              "       [ 0.,  0., 13., 15., 10., 15.,  5.,  0.],\n",
              "       [ 0.,  3., 15.,  2.,  0., 11.,  8.,  0.],\n",
              "       [ 0.,  4., 12.,  0.,  0.,  8.,  8.,  0.],\n",
              "       [ 0.,  5.,  8.,  0.,  0.,  9.,  8.,  0.],\n",
              "       [ 0.,  4., 11.,  0.,  1., 12.,  7.,  0.],\n",
              "       [ 0.,  2., 14.,  5., 10., 12.,  0.,  0.],\n",
              "       [ 0.,  0.,  6., 13., 10.,  0.,  0.,  0.]])"
            ]
          },
          "metadata": {},
          "execution_count": 6
        }
      ]
    },
    {
      "cell_type": "code",
      "source": [
        "df.images[0].shape"
      ],
      "metadata": {
        "colab": {
          "base_uri": "https://localhost:8080/"
        },
        "id": "hJK_ZrqdIHr8",
        "outputId": "9a540a9f-5cbe-4820-e683-f081c5a161d7"
      },
      "execution_count": 7,
      "outputs": [
        {
          "output_type": "execute_result",
          "data": {
            "text/plain": [
              "(8, 8)"
            ]
          },
          "metadata": {},
          "execution_count": 7
        }
      ]
    },
    {
      "cell_type": "code",
      "source": [
        "len(df.images)"
      ],
      "metadata": {
        "colab": {
          "base_uri": "https://localhost:8080/"
        },
        "id": "Dx9mm0HnIO4A",
        "outputId": "e324d645-f0a0-4a86-d22b-d37062a66364"
      },
      "execution_count": 10,
      "outputs": [
        {
          "output_type": "execute_result",
          "data": {
            "text/plain": [
              "1797"
            ]
          },
          "metadata": {},
          "execution_count": 10
        }
      ]
    },
    {
      "cell_type": "code",
      "source": [
        "n_samples = len(df.images)\n",
        "data = df.images.reshape((n_samples, -1))"
      ],
      "metadata": {
        "id": "QEtJTHxXIRY0"
      },
      "execution_count": 14,
      "outputs": []
    },
    {
      "cell_type": "code",
      "source": [
        "data[0]"
      ],
      "metadata": {
        "colab": {
          "base_uri": "https://localhost:8080/"
        },
        "id": "GDBSAvv3IbaZ",
        "outputId": "845fea1c-4138-41b2-8c2e-75e75407e5ef"
      },
      "execution_count": 15,
      "outputs": [
        {
          "output_type": "execute_result",
          "data": {
            "text/plain": [
              "array([ 0.,  0.,  5., 13.,  9.,  1.,  0.,  0.,  0.,  0., 13., 15., 10.,\n",
              "       15.,  5.,  0.,  0.,  3., 15.,  2.,  0., 11.,  8.,  0.,  0.,  4.,\n",
              "       12.,  0.,  0.,  8.,  8.,  0.,  0.,  5.,  8.,  0.,  0.,  9.,  8.,\n",
              "        0.,  0.,  4., 11.,  0.,  1., 12.,  7.,  0.,  0.,  2., 14.,  5.,\n",
              "       10., 12.,  0.,  0.,  0.,  0.,  6., 13., 10.,  0.,  0.,  0.])"
            ]
          },
          "metadata": {},
          "execution_count": 15
        }
      ]
    },
    {
      "cell_type": "code",
      "source": [
        "data[0].shape"
      ],
      "metadata": {
        "colab": {
          "base_uri": "https://localhost:8080/"
        },
        "id": "DWzBezkYIcm8",
        "outputId": "d5dc7b82-fb1b-424d-a116-b4f32ddd6fe6"
      },
      "execution_count": 16,
      "outputs": [
        {
          "output_type": "execute_result",
          "data": {
            "text/plain": [
              "(64,)"
            ]
          },
          "metadata": {},
          "execution_count": 16
        }
      ]
    },
    {
      "cell_type": "code",
      "source": [
        "data.shape"
      ],
      "metadata": {
        "colab": {
          "base_uri": "https://localhost:8080/"
        },
        "id": "bJ8zrkzBIrMB",
        "outputId": "30f3e0d6-4a63-4167-84b8-ae9f70fb41d1"
      },
      "execution_count": 17,
      "outputs": [
        {
          "output_type": "execute_result",
          "data": {
            "text/plain": [
              "(1797, 64)"
            ]
          },
          "metadata": {},
          "execution_count": 17
        }
      ]
    },
    {
      "cell_type": "markdown",
      "source": [
        "### **Scaling Image data**"
      ],
      "metadata": {
        "id": "faQxUMY_IuDa"
      }
    },
    {
      "cell_type": "code",
      "source": [
        "data.min()"
      ],
      "metadata": {
        "colab": {
          "base_uri": "https://localhost:8080/"
        },
        "id": "ZqAn8rF_Iyxl",
        "outputId": "3364f7a3-9193-47a1-a1c0-99844d4c030b"
      },
      "execution_count": 18,
      "outputs": [
        {
          "output_type": "execute_result",
          "data": {
            "text/plain": [
              "0.0"
            ]
          },
          "metadata": {},
          "execution_count": 18
        }
      ]
    },
    {
      "cell_type": "code",
      "source": [
        "data.max()"
      ],
      "metadata": {
        "colab": {
          "base_uri": "https://localhost:8080/"
        },
        "id": "D-i1N-hNI3KX",
        "outputId": "037ca187-e32b-4eab-8dd0-fee2b238c183"
      },
      "execution_count": 19,
      "outputs": [
        {
          "output_type": "execute_result",
          "data": {
            "text/plain": [
              "16.0"
            ]
          },
          "metadata": {},
          "execution_count": 19
        }
      ]
    },
    {
      "cell_type": "code",
      "source": [
        "data = data/16"
      ],
      "metadata": {
        "id": "JNq8V1VhI7CF"
      },
      "execution_count": 20,
      "outputs": []
    },
    {
      "cell_type": "code",
      "source": [
        "data.min()"
      ],
      "metadata": {
        "colab": {
          "base_uri": "https://localhost:8080/"
        },
        "id": "c7H2KRJ_JAQd",
        "outputId": "12d5ca84-4a9c-45db-9e85-e3b666f93cde"
      },
      "execution_count": 21,
      "outputs": [
        {
          "output_type": "execute_result",
          "data": {
            "text/plain": [
              "0.0"
            ]
          },
          "metadata": {},
          "execution_count": 21
        }
      ]
    },
    {
      "cell_type": "code",
      "source": [
        "data.max()"
      ],
      "metadata": {
        "colab": {
          "base_uri": "https://localhost:8080/"
        },
        "id": "0qbj91swJB60",
        "outputId": "9d52dd03-6911-4375-e72b-b5131811b682"
      },
      "execution_count": 22,
      "outputs": [
        {
          "output_type": "execute_result",
          "data": {
            "text/plain": [
              "1.0"
            ]
          },
          "metadata": {},
          "execution_count": 22
        }
      ]
    },
    {
      "cell_type": "code",
      "source": [
        "data[0]"
      ],
      "metadata": {
        "colab": {
          "base_uri": "https://localhost:8080/"
        },
        "id": "FGfyg7l1JDSl",
        "outputId": "e17e8452-6784-4ad3-d4d9-ba7441cc66b2"
      },
      "execution_count": 23,
      "outputs": [
        {
          "output_type": "execute_result",
          "data": {
            "text/plain": [
              "array([0.    , 0.    , 0.3125, 0.8125, 0.5625, 0.0625, 0.    , 0.    ,\n",
              "       0.    , 0.    , 0.8125, 0.9375, 0.625 , 0.9375, 0.3125, 0.    ,\n",
              "       0.    , 0.1875, 0.9375, 0.125 , 0.    , 0.6875, 0.5   , 0.    ,\n",
              "       0.    , 0.25  , 0.75  , 0.    , 0.    , 0.5   , 0.5   , 0.    ,\n",
              "       0.    , 0.3125, 0.5   , 0.    , 0.    , 0.5625, 0.5   , 0.    ,\n",
              "       0.    , 0.25  , 0.6875, 0.    , 0.0625, 0.75  , 0.4375, 0.    ,\n",
              "       0.    , 0.125 , 0.875 , 0.3125, 0.625 , 0.75  , 0.    , 0.    ,\n",
              "       0.    , 0.    , 0.375 , 0.8125, 0.625 , 0.    , 0.    , 0.    ])"
            ]
          },
          "metadata": {},
          "execution_count": 23
        }
      ]
    },
    {
      "cell_type": "markdown",
      "source": [
        "### **Train Test Split Data**"
      ],
      "metadata": {
        "id": "lEf2QsSCJHkj"
      }
    },
    {
      "cell_type": "code",
      "source": [
        "from sklearn.model_selection import train_test_split"
      ],
      "metadata": {
        "id": "WXaufpUmJOM3"
      },
      "execution_count": 24,
      "outputs": []
    },
    {
      "cell_type": "code",
      "source": [
        "X_train, X_test, Y_train, Y_test = train_test_split(data, df.target, test_size=0.3)"
      ],
      "metadata": {
        "id": "w6CDTbcgJYD4"
      },
      "execution_count": 25,
      "outputs": []
    },
    {
      "cell_type": "code",
      "source": [
        "X_train.shape, X_test.shape, Y_train.shape, Y_test.shape"
      ],
      "metadata": {
        "colab": {
          "base_uri": "https://localhost:8080/"
        },
        "id": "mFBWmzvgJrJN",
        "outputId": "e273d1cf-f4e2-4a66-eb83-66ea1bce10c8"
      },
      "execution_count": 27,
      "outputs": [
        {
          "output_type": "execute_result",
          "data": {
            "text/plain": [
              "((1257, 64), (540, 64), (1257,), (540,))"
            ]
          },
          "metadata": {},
          "execution_count": 27
        }
      ]
    },
    {
      "cell_type": "code",
      "source": [],
      "metadata": {
        "id": "FsUNQ1SoJz6M"
      },
      "execution_count": null,
      "outputs": []
    },
    {
      "cell_type": "markdown",
      "source": [
        "## **Random Forest Model**"
      ],
      "metadata": {
        "id": "KBbxu4T2J4Xb"
      }
    },
    {
      "cell_type": "code",
      "source": [
        "from sklearn.ensemble import RandomForestClassifier"
      ],
      "metadata": {
        "id": "DDYOeT-3J8ns"
      },
      "execution_count": 28,
      "outputs": []
    },
    {
      "cell_type": "code",
      "source": [
        "rf = RandomForestClassifier()"
      ],
      "metadata": {
        "id": "9WDlBK9aKEod"
      },
      "execution_count": 29,
      "outputs": []
    },
    {
      "cell_type": "code",
      "source": [
        "rf.fit(X_train, Y_train)"
      ],
      "metadata": {
        "colab": {
          "base_uri": "https://localhost:8080/",
          "height": 74
        },
        "id": "82wVy6MJKIgS",
        "outputId": "dd71fa39-6136-4bea-dacf-1e7a5dcec4d9"
      },
      "execution_count": 30,
      "outputs": [
        {
          "output_type": "execute_result",
          "data": {
            "text/plain": [
              "RandomForestClassifier()"
            ],
            "text/html": [
              "<style>#sk-container-id-1 {color: black;background-color: white;}#sk-container-id-1 pre{padding: 0;}#sk-container-id-1 div.sk-toggleable {background-color: white;}#sk-container-id-1 label.sk-toggleable__label {cursor: pointer;display: block;width: 100%;margin-bottom: 0;padding: 0.3em;box-sizing: border-box;text-align: center;}#sk-container-id-1 label.sk-toggleable__label-arrow:before {content: \"▸\";float: left;margin-right: 0.25em;color: #696969;}#sk-container-id-1 label.sk-toggleable__label-arrow:hover:before {color: black;}#sk-container-id-1 div.sk-estimator:hover label.sk-toggleable__label-arrow:before {color: black;}#sk-container-id-1 div.sk-toggleable__content {max-height: 0;max-width: 0;overflow: hidden;text-align: left;background-color: #f0f8ff;}#sk-container-id-1 div.sk-toggleable__content pre {margin: 0.2em;color: black;border-radius: 0.25em;background-color: #f0f8ff;}#sk-container-id-1 input.sk-toggleable__control:checked~div.sk-toggleable__content {max-height: 200px;max-width: 100%;overflow: auto;}#sk-container-id-1 input.sk-toggleable__control:checked~label.sk-toggleable__label-arrow:before {content: \"▾\";}#sk-container-id-1 div.sk-estimator input.sk-toggleable__control:checked~label.sk-toggleable__label {background-color: #d4ebff;}#sk-container-id-1 div.sk-label input.sk-toggleable__control:checked~label.sk-toggleable__label {background-color: #d4ebff;}#sk-container-id-1 input.sk-hidden--visually {border: 0;clip: rect(1px 1px 1px 1px);clip: rect(1px, 1px, 1px, 1px);height: 1px;margin: -1px;overflow: hidden;padding: 0;position: absolute;width: 1px;}#sk-container-id-1 div.sk-estimator {font-family: monospace;background-color: #f0f8ff;border: 1px dotted black;border-radius: 0.25em;box-sizing: border-box;margin-bottom: 0.5em;}#sk-container-id-1 div.sk-estimator:hover {background-color: #d4ebff;}#sk-container-id-1 div.sk-parallel-item::after {content: \"\";width: 100%;border-bottom: 1px solid gray;flex-grow: 1;}#sk-container-id-1 div.sk-label:hover label.sk-toggleable__label {background-color: #d4ebff;}#sk-container-id-1 div.sk-serial::before {content: \"\";position: absolute;border-left: 1px solid gray;box-sizing: border-box;top: 0;bottom: 0;left: 50%;z-index: 0;}#sk-container-id-1 div.sk-serial {display: flex;flex-direction: column;align-items: center;background-color: white;padding-right: 0.2em;padding-left: 0.2em;position: relative;}#sk-container-id-1 div.sk-item {position: relative;z-index: 1;}#sk-container-id-1 div.sk-parallel {display: flex;align-items: stretch;justify-content: center;background-color: white;position: relative;}#sk-container-id-1 div.sk-item::before, #sk-container-id-1 div.sk-parallel-item::before {content: \"\";position: absolute;border-left: 1px solid gray;box-sizing: border-box;top: 0;bottom: 0;left: 50%;z-index: -1;}#sk-container-id-1 div.sk-parallel-item {display: flex;flex-direction: column;z-index: 1;position: relative;background-color: white;}#sk-container-id-1 div.sk-parallel-item:first-child::after {align-self: flex-end;width: 50%;}#sk-container-id-1 div.sk-parallel-item:last-child::after {align-self: flex-start;width: 50%;}#sk-container-id-1 div.sk-parallel-item:only-child::after {width: 0;}#sk-container-id-1 div.sk-dashed-wrapped {border: 1px dashed gray;margin: 0 0.4em 0.5em 0.4em;box-sizing: border-box;padding-bottom: 0.4em;background-color: white;}#sk-container-id-1 div.sk-label label {font-family: monospace;font-weight: bold;display: inline-block;line-height: 1.2em;}#sk-container-id-1 div.sk-label-container {text-align: center;}#sk-container-id-1 div.sk-container {/* jupyter's `normalize.less` sets `[hidden] { display: none; }` but bootstrap.min.css set `[hidden] { display: none !important; }` so we also need the `!important` here to be able to override the default hidden behavior on the sphinx rendered scikit-learn.org. See: https://github.com/scikit-learn/scikit-learn/issues/21755 */display: inline-block !important;position: relative;}#sk-container-id-1 div.sk-text-repr-fallback {display: none;}</style><div id=\"sk-container-id-1\" class=\"sk-top-container\"><div class=\"sk-text-repr-fallback\"><pre>RandomForestClassifier()</pre><b>In a Jupyter environment, please rerun this cell to show the HTML representation or trust the notebook. <br />On GitHub, the HTML representation is unable to render, please try loading this page with nbviewer.org.</b></div><div class=\"sk-container\" hidden><div class=\"sk-item\"><div class=\"sk-estimator sk-toggleable\"><input class=\"sk-toggleable__control sk-hidden--visually\" id=\"sk-estimator-id-1\" type=\"checkbox\" checked><label for=\"sk-estimator-id-1\" class=\"sk-toggleable__label sk-toggleable__label-arrow\">RandomForestClassifier</label><div class=\"sk-toggleable__content\"><pre>RandomForestClassifier()</pre></div></div></div></div></div>"
            ]
          },
          "metadata": {},
          "execution_count": 30
        }
      ]
    },
    {
      "cell_type": "markdown",
      "source": [
        "## **Predict Test Data**"
      ],
      "metadata": {
        "id": "LIPmGBYUKQj7"
      }
    },
    {
      "cell_type": "code",
      "source": [
        "y_pred = rf.predict(X_test)"
      ],
      "metadata": {
        "id": "tGYihyz2KMqf"
      },
      "execution_count": 31,
      "outputs": []
    },
    {
      "cell_type": "code",
      "source": [
        "y_pred"
      ],
      "metadata": {
        "colab": {
          "base_uri": "https://localhost:8080/"
        },
        "id": "CN3Q4lNvKZfk",
        "outputId": "ffea9af4-0080-4e04-975f-485538f38ae2"
      },
      "execution_count": 32,
      "outputs": [
        {
          "output_type": "execute_result",
          "data": {
            "text/plain": [
              "array([2, 4, 9, 6, 5, 0, 9, 8, 5, 0, 9, 8, 2, 6, 5, 4, 3, 3, 8, 9, 9, 3,\n",
              "       4, 8, 4, 8, 6, 4, 1, 5, 5, 3, 5, 8, 7, 5, 2, 7, 7, 8, 2, 3, 2, 4,\n",
              "       2, 2, 6, 3, 5, 2, 5, 7, 2, 2, 0, 1, 5, 9, 3, 0, 1, 9, 2, 0, 4, 5,\n",
              "       3, 4, 1, 7, 8, 6, 1, 4, 0, 7, 2, 5, 5, 1, 5, 5, 5, 0, 5, 5, 3, 5,\n",
              "       1, 2, 9, 9, 2, 9, 2, 4, 3, 9, 7, 5, 3, 4, 4, 6, 6, 5, 3, 3, 9, 7,\n",
              "       8, 8, 5, 0, 4, 2, 4, 2, 5, 1, 5, 0, 9, 8, 2, 4, 1, 9, 5, 3, 0, 2,\n",
              "       1, 8, 0, 2, 9, 9, 1, 7, 2, 2, 9, 4, 9, 1, 1, 4, 5, 5, 2, 1, 8, 9,\n",
              "       3, 2, 1, 9, 3, 4, 6, 0, 4, 3, 9, 5, 4, 5, 8, 7, 7, 1, 1, 1, 4, 0,\n",
              "       1, 4, 2, 3, 8, 2, 6, 1, 7, 8, 7, 6, 4, 1, 1, 6, 3, 8, 4, 5, 9, 7,\n",
              "       1, 9, 0, 7, 4, 0, 1, 4, 7, 6, 7, 5, 9, 0, 0, 1, 1, 3, 0, 5, 2, 8,\n",
              "       3, 6, 1, 4, 8, 7, 4, 9, 1, 8, 4, 8, 0, 5, 5, 3, 3, 2, 0, 2, 6, 3,\n",
              "       7, 1, 0, 8, 7, 7, 6, 8, 3, 8, 0, 3, 8, 3, 5, 3, 9, 7, 9, 9, 3, 2,\n",
              "       1, 4, 7, 2, 8, 0, 0, 0, 5, 6, 3, 8, 9, 1, 9, 0, 9, 1, 7, 9, 9, 2,\n",
              "       6, 6, 7, 6, 1, 5, 0, 9, 5, 3, 0, 1, 8, 1, 2, 0, 5, 4, 3, 9, 4, 0,\n",
              "       5, 7, 8, 2, 6, 3, 3, 7, 0, 0, 2, 2, 8, 3, 8, 5, 5, 1, 5, 9, 6, 4,\n",
              "       9, 2, 4, 6, 4, 7, 6, 7, 5, 1, 2, 1, 1, 2, 4, 4, 8, 6, 1, 7, 8, 6,\n",
              "       5, 2, 8, 6, 6, 4, 2, 7, 9, 1, 6, 8, 0, 7, 9, 8, 7, 7, 0, 3, 2, 2,\n",
              "       7, 3, 0, 6, 8, 7, 5, 6, 9, 6, 4, 3, 2, 9, 3, 3, 2, 7, 7, 6, 0, 3,\n",
              "       8, 5, 3, 6, 7, 7, 4, 8, 6, 9, 6, 3, 6, 6, 8, 0, 0, 1, 9, 7, 8, 2,\n",
              "       8, 4, 9, 7, 9, 1, 2, 0, 5, 5, 9, 4, 7, 7, 0, 0, 3, 2, 9, 0, 1, 3,\n",
              "       1, 6, 2, 0, 2, 6, 0, 2, 3, 5, 3, 4, 3, 3, 5, 7, 7, 4, 9, 5, 4, 7,\n",
              "       6, 5, 8, 2, 0, 1, 7, 8, 6, 4, 5, 8, 1, 0, 9, 4, 3, 8, 6, 1, 6, 1,\n",
              "       5, 5, 9, 3, 7, 4, 1, 9, 7, 1, 2, 1, 2, 7, 7, 4, 5, 1, 7, 6, 8, 9,\n",
              "       5, 6, 6, 7, 3, 1, 4, 0, 5, 5, 0, 2, 4, 5, 7, 0, 9, 0, 2, 9, 3, 5,\n",
              "       5, 9, 4, 7, 5, 4, 3, 3, 6, 2, 8, 0])"
            ]
          },
          "metadata": {},
          "execution_count": 32
        }
      ]
    },
    {
      "cell_type": "markdown",
      "source": [
        "## **Model Accuracy**"
      ],
      "metadata": {
        "id": "lc138mnnKeRm"
      }
    },
    {
      "cell_type": "code",
      "source": [
        "from sklearn.metrics import confusion_matrix, classification_report"
      ],
      "metadata": {
        "id": "1JBl0whSKaZc"
      },
      "execution_count": 34,
      "outputs": []
    },
    {
      "cell_type": "code",
      "source": [
        "confusion_matrix(Y_test, y_pred)"
      ],
      "metadata": {
        "colab": {
          "base_uri": "https://localhost:8080/"
        },
        "id": "SOFYR832Kpte",
        "outputId": "87141ea0-0155-41a6-f163-a0317d7bc904"
      },
      "execution_count": 35,
      "outputs": [
        {
          "output_type": "execute_result",
          "data": {
            "text/plain": [
              "array([[50,  0,  0,  0,  1,  0,  0,  0,  0,  0],\n",
              "       [ 0, 54,  0,  0,  0,  0,  0,  0,  0,  0],\n",
              "       [ 0,  0, 57,  0,  0,  0,  0,  0,  0,  0],\n",
              "       [ 0,  0,  0, 55,  0,  1,  0,  0,  2,  0],\n",
              "       [ 0,  0,  0,  0, 52,  0,  0,  1,  0,  0],\n",
              "       [ 0,  0,  0,  0,  0, 62,  0,  0,  0,  1],\n",
              "       [ 1,  0,  0,  0,  0,  0, 47,  0,  0,  0],\n",
              "       [ 0,  0,  0,  0,  0,  0,  0, 54,  1,  0],\n",
              "       [ 0,  0,  0,  0,  0,  1,  0,  0, 45,  0],\n",
              "       [ 0,  0,  0,  0,  0,  0,  0,  1,  0, 54]])"
            ]
          },
          "metadata": {},
          "execution_count": 35
        }
      ]
    },
    {
      "cell_type": "code",
      "source": [
        "print(classification_report(Y_test, y_pred))"
      ],
      "metadata": {
        "colab": {
          "base_uri": "https://localhost:8080/"
        },
        "id": "BfSy568RK7Lm",
        "outputId": "280def7f-08d3-4c0a-95ba-75bcd61f4c48"
      },
      "execution_count": 36,
      "outputs": [
        {
          "output_type": "stream",
          "name": "stdout",
          "text": [
            "              precision    recall  f1-score   support\n",
            "\n",
            "           0       0.98      0.98      0.98        51\n",
            "           1       1.00      1.00      1.00        54\n",
            "           2       1.00      1.00      1.00        57\n",
            "           3       1.00      0.95      0.97        58\n",
            "           4       0.98      0.98      0.98        53\n",
            "           5       0.97      0.98      0.98        63\n",
            "           6       1.00      0.98      0.99        48\n",
            "           7       0.96      0.98      0.97        55\n",
            "           8       0.94      0.98      0.96        46\n",
            "           9       0.98      0.98      0.98        55\n",
            "\n",
            "    accuracy                           0.98       540\n",
            "   macro avg       0.98      0.98      0.98       540\n",
            "weighted avg       0.98      0.98      0.98       540\n",
            "\n"
          ]
        }
      ]
    },
    {
      "cell_type": "code",
      "source": [],
      "metadata": {
        "id": "VQNZCWTILDoK"
      },
      "execution_count": null,
      "outputs": []
    }
  ]
}